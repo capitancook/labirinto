{
 "cells": [
  {
   "cell_type": "markdown",
   "metadata": {},
   "source": [
    "# AI per trovare l'uscita in un labirinto\n",
    "\n"
   ]
  },
  {
   "cell_type": "code",
   "execution_count": 2,
   "metadata": {},
   "outputs": [],
   "source": [
    "import sys\n",
    "import time\n",
    "from datetime import timedelta\n"
   ]
  },
  {
   "cell_type": "markdown",
   "metadata": {},
   "source": [
    "Ricordate \"strutture dati + algoritmi = software\"?\n",
    "La struttura dati per memorizzare il generico nodo del grafo dei possibili stati è "
   ]
  },
  {
   "cell_type": "code",
   "execution_count": 3,
   "metadata": {},
   "outputs": [],
   "source": [
    "class Nodo():\n",
    "    def __init__(self, stato, genitore, azione):\n",
    "        self.stato = stato\n",
    "        self.genitore = genitore\n",
    "        self.azione = azione"
   ]
  },
  {
   "cell_type": "markdown",
   "metadata": {},
   "source": [
    "L'altra struttura dati di cui abbiamo bisogno è la struttura dati della Frontiera.\n",
    "Come abbiamo visto ci sono due tipo di struttura dati che possiamo usare per la frontiera.\n",
    "\n",
    "La pila è una struttura dati che adotta una logica Last In First Out (l'ultimo a entrare è il primo ad uscire come accade per una pila, appunto, di piatti)\n"
   ]
  },
  {
   "cell_type": "code",
   "execution_count": 4,
   "metadata": {},
   "outputs": [],
   "source": [
    "class FrontieraPila():\n",
    "    def __init__(self):\n",
    "        self.frontiera = []\n",
    "\n",
    "    def aggiungiStato(self, nodo):\n",
    "        self.frontiera.append(nodo)\n",
    "\n",
    "    def contieneStato(self, stato):\n",
    "        return any(nodo.stato == stato for nodo in self.frontiera)\n",
    "\n",
    "    def eVuota(self):\n",
    "        return len(self.frontiera) == 0\n",
    "\n",
    "    def rimuoviStato(self):\n",
    "        if self.eVuota():\n",
    "            raise Exception(\"Frontiera vuota\")\n",
    "        else:\n",
    "            nodo = self.frontiera[-1]\n",
    "            self.frontiera = self.frontiera[:-1]\n",
    "            return nodo\n"
   ]
  },
  {
   "cell_type": "code",
   "execution_count": 7,
   "metadata": {},
   "outputs": [
    {
     "data": {
      "text/plain": [
       "True"
      ]
     },
     "execution_count": 7,
     "metadata": {},
     "output_type": "execute_result"
    }
   ],
   "source": [
    "f = FrontieraPila()\n",
    "f.eVuota()"
   ]
  },
  {
   "cell_type": "code",
   "execution_count": 8,
   "metadata": {},
   "outputs": [
    {
     "data": {
      "text/plain": [
       "False"
      ]
     },
     "execution_count": 8,
     "metadata": {},
     "output_type": "execute_result"
    }
   ],
   "source": [
    "f = FrontieraPila()\n",
    "f.aggiungiStato(\"Pippo\")\n",
    "f.aggiungiStato(\"Pluto\")\n",
    "f.aggiungiStato(\"Topolino\")\n",
    "f.eVuota()"
   ]
  },
  {
   "cell_type": "code",
   "execution_count": 9,
   "metadata": {},
   "outputs": [
    {
     "data": {
      "text/plain": [
       "'Topolino'"
      ]
     },
     "execution_count": 9,
     "metadata": {},
     "output_type": "execute_result"
    }
   ],
   "source": [
    "f.rimuoviStato()"
   ]
  },
  {
   "cell_type": "code",
   "execution_count": 10,
   "metadata": {},
   "outputs": [
    {
     "data": {
      "text/plain": [
       "False"
      ]
     },
     "execution_count": 10,
     "metadata": {},
     "output_type": "execute_result"
    }
   ],
   "source": [
    "f.eVuota()"
   ]
  },
  {
   "cell_type": "code",
   "execution_count": 11,
   "metadata": {},
   "outputs": [
    {
     "data": {
      "text/plain": [
       "'Pluto'"
      ]
     },
     "execution_count": 11,
     "metadata": {},
     "output_type": "execute_result"
    }
   ],
   "source": [
    "f.rimuoviStato()"
   ]
  },
  {
   "cell_type": "code",
   "execution_count": 12,
   "metadata": {},
   "outputs": [
    {
     "data": {
      "text/plain": [
       "'Pippo'"
      ]
     },
     "execution_count": 12,
     "metadata": {},
     "output_type": "execute_result"
    }
   ],
   "source": [
    "f.rimuoviStato()"
   ]
  },
  {
   "cell_type": "code",
   "execution_count": 13,
   "metadata": {},
   "outputs": [
    {
     "data": {
      "text/plain": [
       "True"
      ]
     },
     "execution_count": 13,
     "metadata": {},
     "output_type": "execute_result"
    }
   ],
   "source": [
    "f.eVuota()"
   ]
  },
  {
   "cell_type": "markdown",
   "metadata": {},
   "source": [
    "Con una pila per frontiera si realizza un algoritmo Depth First Search (DFS) e, come vedremo nel seguito, si ha che l'AI cerca prima di visitare ogni cammino fino alla fine, ovvero alla constatazione che non c'è una uscita in quel cammino, prima di cercare in un altro cammino.\n",
    "\n",
    "L'altra struttura dati è la coda. La coda è una struttura dati che adotta una logica First In First Out (il primo a entrare è il primo ad uscire come accade per una coda, appunto, allo sportello della posta) "
   ]
  },
  {
   "cell_type": "code",
   "execution_count": 14,
   "metadata": {},
   "outputs": [],
   "source": [
    "class FrontieraCoda(FrontieraPila):\n",
    "\n",
    "    def rimuoviStato(self):\n",
    "        if self.eVuota():\n",
    "            raise Exception(\"Frontiera vuota\")\n",
    "        else:\n",
    "            nodo = self.frontiera[0]\n",
    "            self.frontiera = self.frontiera[1:]\n",
    "            return nodo"
   ]
  },
  {
   "cell_type": "markdown",
   "metadata": {},
   "source": [
    "Con una coda per frontiera si realizza un algoritmo Breadth First Search (BFS) e, come vedremo nel seguito, si ha che l'AI ad ogni diramazione cerca di visitare i nodi più vicini prima di addentrarsi in un qualunque cammino fino a trovare l'uscita o decidere che non c'è uscita."
   ]
  },
  {
   "cell_type": "markdown",
   "metadata": {},
   "source": [
    "Adesso vediamo come è fatta la classe Labirinto che contiene la descrizione del nostro problema da risolvere con l'AI"
   ]
  },
  {
   "cell_type": "code",
   "execution_count": 19,
   "metadata": {},
   "outputs": [],
   "source": [
    "class Labirinto():\n",
    "\n",
    "    def __init__(self, nomeFile):\n",
    "        \n",
    "        # legge il file del labirinto e imposta altezza e larghezza del labirinto\n",
    "        with open(nomeFile) as f:\n",
    "            contenuti = f.read()\n",
    "\n",
    "        # Verifica che il file contenga almeno uno stato inizial (= un ingresso) e uno finale (= una uscita)\n",
    "        if contenuti.count(\"A\") != 1:\n",
    "            raise Exception(\"Un labirinto deve avere esattamente un punto di partenza\")\n",
    "        if contenuti.count(\"B\") != 1:\n",
    "            raise Exception(\"Un labirinto deve avere esattamente un obiettivo\")\n",
    "\n",
    "        # Calcola l'altezza e la larghezza del labirinto\n",
    "        contenuti = contenuti.splitlines()\n",
    "        self.altezza = len(contenuti)\n",
    "        self.larghezza = max(len(line) for line in contenuti)\n",
    "\n",
    "        # tiene traccia dei muri del labirinto\n",
    "        self.muri = []\n",
    "        for i in range(self.altezza):\n",
    "            riga = []\n",
    "            for j in range(self.larghezza):\n",
    "                try:\n",
    "                    if contenuti[i][j] == \"A\":\n",
    "                        self.start = (i, j)\n",
    "                        riga.append(False)\n",
    "                    elif contenuti[i][j] == \"B\":\n",
    "                        self.goal = (i, j)\n",
    "                        riga.append(False)\n",
    "                    elif contenuti[i][j] == \" \":\n",
    "                        riga.append(False)\n",
    "                    else:\n",
    "                        riga.append(True)\n",
    "                except IndexError:\n",
    "                    riga.append(False)\n",
    "            self.muri.append(riga)\n",
    "\n",
    "        self.soluzione = None\n",
    "\n",
    "\n",
    "    def stampaLabirinto(self):\n",
    "        soluzione = self.soluzione[1] if self.soluzione is not None else None\n",
    "        print()\n",
    "        for i, riga in enumerate(self.muri):\n",
    "            for j, col in enumerate(riga):\n",
    "                if col:\n",
    "                    print(\"█\", end=\"\")\n",
    "                elif (i, j) == self.start:\n",
    "                    print(\"A\", end=\"\")\n",
    "                elif (i, j) == self.goal:\n",
    "                    print(\"B\", end=\"\")\n",
    "                elif soluzione is not None and (i, j) in soluzione:\n",
    "                    print(\"*\", end=\"\")\n",
    "                else:\n",
    "                    print(\" \", end=\"\")\n",
    "            print()\n",
    "        print()\n",
    "\n",
    "\n",
    "    def nodiVicini(self, stato):\n",
    "        riga, col = stato\n",
    "        candidati = [\n",
    "            (\"su\", (riga - 1, col)),\n",
    "            (\"giu\", (riga + 1, col)),\n",
    "            (\"sin\", (riga, col - 1)),\n",
    "            (\"des\", (riga, col + 1))\n",
    "        ]\n",
    "\n",
    "        risultato = []\n",
    "        for azione, (r, c) in candidati:\n",
    "            if 0 <= r < self.altezza and 0 <= c < self.larghezza and not self.muri[r][c]:\n",
    "                risultato.append((azione, (r, c)))\n",
    "        return risultato\n",
    "\n",
    "\n",
    "    def risolvi(self,frontiera):\n",
    "        \"\"\"Finds a soluzione to maze, if one exists.\"\"\"\n",
    "        \n",
    "        # Keep track of number of statos explored\n",
    "        self.numeroStatiEsplorati = 0\n",
    "\n",
    "        # Initialize frontier to just the starting position\n",
    "        start = Nodo(stato=self.start, genitore=None, azione=None)\n",
    "        # frontier = FrontieraPila()\n",
    "        frontiera.aggiungiStato(start)\n",
    "\n",
    "        # Inizializzazione di un set di stati esplorati al momento vuoto\n",
    "        self.statiEsplorati = set()\n",
    "\n",
    "        # Continua a eseguire in ciclo finché non si trova una soluzione o il problema non è risolvibile\n",
    "        while True:\n",
    "\n",
    "            # Se non c'è nulla nella frontiera vuol dire che il problema non è risolvibile. \n",
    "            # Ovvero, non c'è un cammino tra start e goal!\n",
    "            if frontiera.eVuota():\n",
    "                raise Exception(\"Non esiste una soluzione\")\n",
    "\n",
    "            # Sceglie un nodo dalla froniera\n",
    "            nodo = frontiera.rimuoviStato()\n",
    "            self.numeroStatiEsplorati += 1\n",
    "\n",
    "            # Se il nodo estratto è il nodo goal allora abbiamo trovato il nodo di arrivo e risolto il problema\n",
    "            if nodo.stato == self.goal:\n",
    "                azioni = []\n",
    "                celle = []\n",
    "                # ripercorre il cammino al contrario dal goal verso lo stato start per creare il cammino\n",
    "                # che porta dallo start al goal. Ovvero, la soluzione.\n",
    "                while nodo.genitore is not None:\n",
    "                    azioni.append(nodo.azione)\n",
    "                    celle.append(nodo.stato)\n",
    "                    nodo = nodo.genitore\n",
    "                # Siccome ha costruito il cammino soluzione in direzione inversa, ovvero da goal a start \n",
    "                # per avere il cammino orientato in modo corretto deve invertire sia la lista degli stati\n",
    "                # che quella delle azioni\n",
    "                azioni.reverse()\n",
    "                celle.reverse()\n",
    "                # Quindi memorizza la lista degli stati e la lista delle azioni da intraprendere nell'attributo\n",
    "                # soluzione della classe Labirinto\n",
    "                self.soluzione = (azioni, celle)\n",
    "                return\n",
    "\n",
    "            # Altrimenti marchiamo il nodo estratto come esplorato\n",
    "            self.statiEsplorati.add(nodo.stato)\n",
    "\n",
    "            # E aggiungiamo i nodi vicini alla frontiera\n",
    "            for azione, stato in self.nodiVicini(nodo.stato):\n",
    "                if not frontiera.contieneStato(stato) and stato not in self.statiEsplorati:\n",
    "                    child = Nodo(stato=stato, genitore=nodo, azione=azione)\n",
    "                    frontiera.aggiungiStato(child)\n",
    "\n",
    "\n",
    "    def produciImmagineLabirinto(self, nomeFile, mostraSoluzione=True, mostraStatiEsplorati=False):\n",
    "        from PIL import Image, ImageDraw\n",
    "        dimensioneCella = 50\n",
    "        dimensioneBordoCella = 2\n",
    "\n",
    "        # Crea una immagine bianca (una canvas = tela)\n",
    "        img = Image.new(\n",
    "            \"RGBA\",\n",
    "            (self.larghezza * dimensioneCella, self.altezza * dimensioneCella),\n",
    "            \"black\"\n",
    "        )\n",
    "        draw = ImageDraw.Draw(img)\n",
    "\n",
    "        soluzione = self.soluzione[1] if self.soluzione is not None else None\n",
    "        for i, riga in enumerate(self.muri):\n",
    "            for j, col in enumerate(riga):\n",
    "\n",
    "                # Muri\n",
    "                if col:\n",
    "                    fill = (40, 40, 40)\n",
    "\n",
    "                # Stato iniziale\n",
    "                elif (i, j) == self.start:\n",
    "                    fill = (255, 0, 0)\n",
    "\n",
    "                # Goal\n",
    "                elif (i, j) == self.goal:\n",
    "                    fill = (0, 171, 28)\n",
    "\n",
    "                # Soluzione\n",
    "                elif soluzione is not None and mostraSoluzione and (i, j) in soluzione:\n",
    "                    fill = (220, 235, 113)\n",
    "\n",
    "                # Stati esplorati\n",
    "                elif soluzione is not None and mostraStatiEsplorati and (i, j) in self.statiEsplorati:\n",
    "                    fill = (212, 97, 85)\n",
    "\n",
    "                # Cella vuota\n",
    "                else:\n",
    "                    fill = (237, 240, 252)\n",
    "\n",
    "                # Disegna cella\n",
    "                draw.rectangle(\n",
    "                    ([(j * dimensioneCella + dimensioneBordoCella, i * dimensioneCella + dimensioneBordoCella),\n",
    "                      ((j + 1) * dimensioneCella - dimensioneBordoCella, (i + 1) * dimensioneCella - dimensioneBordoCella)]),\n",
    "                    fill=fill\n",
    "                )\n",
    "\n",
    "        img.save(nomeFile)\n",
    "\n"
   ]
  },
  {
   "cell_type": "markdown",
   "metadata": {},
   "source": [
    "Adesso possiamo testare la nostra AI con un labirinto.\n",
    "Per come abbiamo scritto la nostra classe Labirinto, il file che contiene un labirinto deve avere tante righe e tante colonne per quante righe e colonne vogliamo sia formato il nostro labirinto.\n",
    "In ogni labirinto ci deve essere almeno un punto di partenza marcato con il carattere A e almeno una uscita o destinazione marcata con il carattere B.\n",
    "I muri sono indicati con un carattere cancelletto menter i passaggi liberi con uno spazio. \n",
    "Ad esempio:\n",
    "```\n",
    "#####B#\n",
    "##### #\n",
    "A     #\n",
    "#### ##\n",
    "     ##\n",
    "#######\n",
    "```\n",
    "è un laborinto di 6 righe per 7 colonne. Questo esempio è memorizzato nel file labirinto1.txt"
   ]
  },
  {
   "cell_type": "markdown",
   "metadata": {},
   "source": [
    "Mettiamo alla prova la nostra AI con questo labirinto.\n",
    "Carichiamo il labirinto labirinto1.txt nella nostra AI e stampiamo il labirinto."
   ]
  },
  {
   "cell_type": "code",
   "execution_count": 24,
   "metadata": {},
   "outputs": [
    {
     "name": "stdout",
     "output_type": "stream",
     "text": [
      "Labirinto:\n",
      "\n",
      "█████B█\n",
      "█████ █\n",
      "A     █\n",
      "████ ██\n",
      "     ██\n",
      "███████\n",
      "\n"
     ]
    }
   ],
   "source": [
    "l = Labirinto(\"labirinto1.txt\")\n",
    "print(\"Labirinto:\")\n",
    "l.stampaLabirinto()"
   ]
  },
  {
   "cell_type": "markdown",
   "metadata": {},
   "source": [
    "Adesso cerchiamo una soluzione con una frontiera pila per adottare un approccio DFS. Quindi, andiamo in profondità prima:"
   ]
  },
  {
   "cell_type": "code",
   "execution_count": 17,
   "metadata": {},
   "outputs": [
    {
     "name": "stdout",
     "output_type": "stream",
     "text": [
      "Sto cercando una soluzione con una frontiera pila (DFS)...\n",
      "Numero di stati esplorati :  8\n",
      "L'esecuzione del codice ha richiesto : 0:00:00 microsecondi (Wall clock time)\n",
      "Soluzione trovata : \n",
      "\n",
      "█████B█\n",
      "█████*█\n",
      "A*****█\n",
      "████ ██\n",
      "     ██\n",
      "███████\n",
      "\n"
     ]
    }
   ],
   "source": [
    "print(\"Sto cercando una soluzione con una frontiera pila (DFS)...\")\n",
    "tempoIniziale = time.time_ns()\n",
    "l.risolvi(FrontieraPila())\n",
    "print(\"Numero di stati esplorati : \", l.numeroStatiEsplorati)\n",
    "tempoImpiegato = time.time_ns() - tempoIniziale\n",
    "msg = \"L'esecuzione del codice ha richiesto : %s microsecondi (Wall clock time)\" % timedelta(microseconds=round(tempoImpiegato/1000))\n",
    "print(msg)    \n",
    "print(\"Soluzione trovata : \")\n",
    "l.stampaLabirinto()\n",
    "l.produciImmagineLabirinto(\"labirintoPila.png\", mostraStatiEsplorati=False)"
   ]
  },
  {
   "cell_type": "code",
   "execution_count": 25,
   "metadata": {},
   "outputs": [
    {
     "data": {
      "image/png": "[encoded data removed]",
      "text/plain": [
       "<IPython.core.display.Image object>"
      ]
     },
     "execution_count": 25,
     "metadata": {},
     "output_type": "execute_result"
    }
   ],
   "source": [
    "from IPython.display import Image\n",
    "Image(filename='labirintoPila.png')"
   ]
  },
  {
   "cell_type": "markdown",
   "metadata": {},
   "source": [
    "Chiediamo alla nostra AI di usare una frontiera coda (BFS). Ovvero, diciamo alla nostra AI di visitare prima i nodi più vicini prima di avventurarsi in profondità: "
   ]
  },
  {
   "cell_type": "code",
   "execution_count": 26,
   "metadata": {},
   "outputs": [
    {
     "name": "stdout",
     "output_type": "stream",
     "text": [
      "Sto cercando una soluzione con una frontiera coda (BFS)...\n",
      "Numero di stati esplorati :  11\n",
      "L'esecuzione del codice ha richiesto : 0:00:00.005036 microsecondi (Wall clock time)\n",
      "Soluzione trovata : \n",
      "\n",
      "█████B█\n",
      "█████*█\n",
      "A*****█\n",
      "████ ██\n",
      "     ██\n",
      "███████\n",
      "\n"
     ]
    }
   ],
   "source": [
    "print(\"Sto cercando una soluzione con una frontiera coda (BFS)...\")\n",
    "tempoIniziale = time.time_ns()\n",
    "l.risolvi(FrontieraCoda())\n",
    "print(\"Numero di stati esplorati : \", l.numeroStatiEsplorati)\n",
    "tempoImpiegato = time.time_ns() - tempoIniziale\n",
    "msg = \"L'esecuzione del codice ha richiesto : %s microsecondi (Wall clock time)\" % timedelta(microseconds=round(tempoImpiegato/1000))\n",
    "print(msg)    \n",
    "print(\"Soluzione trovata : \")\n",
    "l.stampaLabirinto()\n",
    "l.produciImmagineLabirinto(\"labirintoCoda.png\", mostraStatiEsplorati=False)"
   ]
  },
  {
   "cell_type": "markdown",
   "metadata": {},
   "source": [
    "possiamo vedere con una grafica più accattivante il risultato:"
   ]
  },
  {
   "cell_type": "code",
   "execution_count": 27,
   "metadata": {},
   "outputs": [
    {
     "data": {
      "image/png": "[encoded data removed]",
      "text/plain": [
       "<IPython.core.display.Image object>"
      ]
     },
     "execution_count": 27,
     "metadata": {},
     "output_type": "execute_result"
    }
   ],
   "source": [
    "Image(filename='labirintoCoda.png')"
   ]
  },
  {
   "cell_type": "markdown",
   "metadata": {},
   "source": [
    "Apparentemente, il risultato è lo stesso. MA, se guardiamo bene quasta volta l'AI ha vistato 11 stati prima di trovare lo stato finale mentra nel caso precedente la soluzione era stata trovata visitando solo 8 stati.\n",
    "Possiamo vedere gli stati che l'AI ha visitato mettendo a True lo switch mostraStatiEsplorati del metodo produciImmagineLabirinto. Vediamo:\n"
   ]
  },
  {
   "cell_type": "code",
   "execution_count": 51,
   "metadata": {},
   "outputs": [
    {
     "data": {
      "image/png": "[encoded data removed]",
      "text/plain": [
       "<IPython.core.display.Image object>"
      ]
     },
     "execution_count": 51,
     "metadata": {},
     "output_type": "execute_result"
    }
   ],
   "source": [
    "l.produciImmagineLabirinto(\"labirintoCoda.png\", mostraStatiEsplorati=True)\n",
    "Image(filename='labirintoCoda.png')\n"
   ]
  },
  {
   "cell_type": "markdown",
   "metadata": {},
   "source": [
    "Come possiamo vedere qui sopra, l'AI ha esplorato i tre stati in rosso \"inutilmente\". Quindi, in questo caso e ribadisco inquesto caso, bFS si comporta peggio di DFS.\n",
    "Vediamo un altro esempio con il file labirinto2.txt:\n"
   ]
  },
  {
   "cell_type": "code",
   "execution_count": 61,
   "metadata": {},
   "outputs": [
    {
     "name": "stdout",
     "output_type": "stream",
     "text": [
      "Sto cercando una soluzione con una frontiera pila (DFS)...\n",
      "Numero di stati esplorati :  194\n",
      "L'esecuzione del codice ha richiesto : 0:00:00.001000 microsecondi (Wall clock time)\n",
      "Soluzione trovata : \n"
     ]
    },
    {
     "data": {
      "image/png": "[encoded data removed]",
      "text/plain": [
       "<IPython.core.display.Image object>"
      ]
     },
     "execution_count": 61,
     "metadata": {},
     "output_type": "execute_result"
    }
   ],
   "source": [
    "l = Labirinto(\"labirinto2.txt\")\n",
    "print(\"Sto cercando una soluzione con una frontiera pila (DFS)...\")\n",
    "tempoIniziale = time.time_ns()\n",
    "l.risolvi(FrontieraPila())\n",
    "print(\"Numero di stati esplorati : \", l.numeroStatiEsplorati)\n",
    "tempoImpiegato = time.time_ns() - tempoIniziale\n",
    "msg = \"L'esecuzione del codice ha richiesto : %s microsecondi (Wall clock time)\" % timedelta(microseconds=round(tempoImpiegato/1000))\n",
    "print(msg)    \n",
    "print(\"Soluzione trovata : \")\n",
    "l.produciImmagineLabirinto(\"labirintoPila.png\", mostraStatiEsplorati=True)\n",
    "Image(filename='labirintoPila.png')"
   ]
  },
  {
   "cell_type": "code",
   "execution_count": 62,
   "metadata": {},
   "outputs": [
    {
     "name": "stdout",
     "output_type": "stream",
     "text": [
      "Sto cercando una soluzione con una frontiera coda (BFS)...\n",
      "Numero di stati esplorati :  77\n",
      "L'esecuzione del codice ha richiesto : 0:00:00 microsecondi (Wall clock time)\n",
      "Soluzione trovata : \n"
     ]
    },
    {
     "data": {
      "image/png": "[encoded data removed]",
      "text/plain": [
       "<IPython.core.display.Image object>"
      ]
     },
     "execution_count": 62,
     "metadata": {},
     "output_type": "execute_result"
    }
   ],
   "source": [
    "l = Labirinto(\"labirinto2.txt\")\n",
    "print(\"Sto cercando una soluzione con una frontiera coda (BFS)...\")\n",
    "tempoIniziale = time.time_ns()\n",
    "l.risolvi(FrontieraCoda())\n",
    "print(\"Numero di stati esplorati : \", l.numeroStatiEsplorati)\n",
    "tempoImpiegato = time.time_ns() - tempoIniziale\n",
    "msg = \"L'esecuzione del codice ha richiesto : %s microsecondi (Wall clock time)\" % timedelta(microseconds=round(tempoImpiegato/1000))\n",
    "print(msg)    \n",
    "print(\"Soluzione trovata : \")\n",
    "l.produciImmagineLabirinto(\"labirintoCoda.png\", mostraStatiEsplorati=True)\n",
    "Image(filename='labirintoCoda.png')"
   ]
  },
  {
   "cell_type": "markdown",
   "metadata": {},
   "source": [
    "Come possiamo vedere qui sopra, in questo caso e ribadisco in questo caso, BFS si comporta mooolto meglio di DFS con soli 77 nodi visitati invece che 194."
   ]
  }
 ],
 "metadata": {
  "kernelspec": {
   "display_name": "Python 3.9.13 64-bit (microsoft store)",
   "language": "python",
   "name": "python3"
  },
  "language_info": {
   "codemirror_mode": {
    "name": "ipython",
    "version": 3
   },
   "file_extension": ".py",
   "mimetype": "text/x-python",
   "name": "python",
   "nbconvert_exporter": "python",
   "pygments_lexer": "ipython3",
   "version": "3.9.13"
  },
  "orig_nbformat": 4,
  "vscode": {
   "interpreter": {
    "hash": "b62038c88d86df113664c67e0595a7e5d5857d9b34442a8f39dffa4462ab8f77"
   }
  }
 },
 "nbformat": 4,
 "nbformat_minor": 2
}
